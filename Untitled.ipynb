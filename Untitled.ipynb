{
 "cells": [
  {
   "cell_type": "code",
   "execution_count": 4,
   "id": "980d544c-b100-4cee-8554-547dc9eeb67d",
   "metadata": {},
   "outputs": [
    {
     "name": "stderr",
     "output_type": "stream",
     "text": [
      "C:\\Users\\aleja\\AppData\\Local\\Programs\\Python\\Python312\\Lib\\site-packages\\openpyxl\\worksheet\\_reader.py:223: UserWarning: Cell A6186 is marked as a date but the serial value 6692393.698055555 is outside the limits for dates. The cell will be treated as an error.\n",
      "  warn(msg)\n",
      "C:\\Users\\aleja\\AppData\\Local\\Programs\\Python\\Python312\\Lib\\site-packages\\openpyxl\\worksheet\\_reader.py:223: UserWarning: Cell A6244 is marked as a date but the serial value 6692424.698055555 is outside the limits for dates. The cell will be treated as an error.\n",
      "  warn(msg)\n",
      "C:\\Users\\aleja\\AppData\\Local\\Programs\\Python\\Python312\\Lib\\site-packages\\openpyxl\\worksheet\\_reader.py:223: UserWarning: Cell A6397 is marked as a date but the serial value 6692424.698055555 is outside the limits for dates. The cell will be treated as an error.\n",
      "  warn(msg)\n",
      "C:\\Users\\aleja\\AppData\\Local\\Programs\\Python\\Python312\\Lib\\site-packages\\openpyxl\\worksheet\\_reader.py:223: UserWarning: Cell A6542 is marked as a date but the serial value 6692608.698055555 is outside the limits for dates. The cell will be treated as an error.\n",
      "  warn(msg)\n"
     ]
    },
    {
     "name": "stdout",
     "output_type": "stream",
     "text": [
      "columnas:  Index([                                             'Marca temporal',\n",
      "                                                                   6,\n",
      "                                                                   9,\n",
      "                                                    'Segundo Nombre',\n",
      "                                                   'Primer Apellido',\n",
      "                                                  'Segundo Apellido',\n",
      "            'Número de identidad del huésped (Separado por guiones)',\n",
      "                                              'Lugar de procedencia',\n",
      "                                           'Aldea, barrio o colonia',\n",
      "                    'Teléfono celular (Separado con guión en medio)',\n",
      "                                                              'Sexo',\n",
      "                                                              'Edad',\n",
      "                                                'Profesión u oficio',\n",
      "                                                    'Es primera vez',\n",
      "                                                              'Cama',\n",
      "                                                           'Iglesia',\n",
      "                                      'Nombre completo del afiliado',\n",
      "                                                         'Condición',\n",
      "           'Número de identidad del afiliado (Separado con guiones)',\n",
      "       'Teléfono celular del afiliado (Separado con guión en medio)',\n",
      "                                                           'Patrono',\n",
      "                                               'Nombre del paciente',\n",
      "                                         'Parentesco con el huésped',\n",
      "       'Teléfono celular del paciente (Separado con guión en medio)',\n",
      "                                           'Causa de visita al IHSS',\n",
      "                                                     'Observaciones',\n",
      "                                                       'Unnamed: 26'],\n",
      "      dtype='object')\n"
     ]
    }
   ],
   "source": [
    "import pandas as pd\n",
    "\n",
    "df = pd.read_excel('Ingresos a Base de Datos SPS (respuestas).xlsx')\n",
    "\n",
    "columnas = df.columns\n",
    "\n",
    "print(\"columnas: \", columnas)"
   ]
  },
  {
   "cell_type": "code",
   "execution_count": null,
   "id": "9ff4ece3-f5c5-4deb-9f7f-7d048b8de41c",
   "metadata": {},
   "outputs": [],
   "source": []
  }
 ],
 "metadata": {
  "kernelspec": {
   "display_name": "Python 3 (ipykernel)",
   "language": "python",
   "name": "python3"
  },
  "language_info": {
   "codemirror_mode": {
    "name": "ipython",
    "version": 3
   },
   "file_extension": ".py",
   "mimetype": "text/x-python",
   "name": "python",
   "nbconvert_exporter": "python",
   "pygments_lexer": "ipython3",
   "version": "3.12.1"
  }
 },
 "nbformat": 4,
 "nbformat_minor": 5
}
