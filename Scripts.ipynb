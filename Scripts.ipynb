{
 "cells": [
  {
   "cell_type": "markdown",
   "id": "bce7c416-5fbe-4ecf-8335-6798710d171d",
   "metadata": {},
   "source": [
    "## Limpiando datos del afiliado (Identidad)"
   ]
  },
  {
   "cell_type": "code",
   "execution_count": null,
   "id": "a42baa5d-9f1f-42c6-af03-fc04d025f914",
   "metadata": {},
   "outputs": [],
   "source": []
  },
  {
   "cell_type": "markdown",
   "id": "88064366-9247-467c-bbca-524cd4a4e92e",
   "metadata": {},
   "source": [
    "# Problemas Importantes "
   ]
  },
  {
   "cell_type": "markdown",
   "id": "223cf422-60c4-45b1-be0a-a3a618ec9b73",
   "metadata": {
    "jp-MarkdownHeadingCollapsed": true
   },
   "source": [
    "# PROCEDENCIA"
   ]
  },
  {
   "cell_type": "code",
   "execution_count": 24,
   "id": "d507177b-f560-43aa-af16-fc94b79ed3c1",
   "metadata": {},
   "outputs": [],
   "source": [
    "#El primer problema que vamos a tratar, es el problema de la procedencia, nosotros necesitamos saber de que departamento\n",
    "#vienen los huespedes, para eso, vamos a usar su numero de identidad.\n",
    "\n",
    "import pandas as pd\n",
    "\n",
    "df = pd.read_excel(\"updateVersion.xlsx\")\n"
   ]
  },
  {
   "cell_type": "code",
   "execution_count": 25,
   "id": "6ce3c29a-b22f-4baf-a0bc-4ca2f70b21a2",
   "metadata": {},
   "outputs": [],
   "source": [
    "#Creamos un diccionario con el código de cada departamento.\n",
    "codigo_departamentos = {\n",
    "    '01': 'ATLÁNTIDA',\n",
    "    '02': 'COLÓN',\n",
    "    '03': 'COMAYAGUA',\n",
    "    '04': 'COPÁN',\n",
    "    '05': 'CORTÉS',\n",
    "    '06': 'CHOLUTECA',\n",
    "    '07': 'EL PARAÍSO',\n",
    "    '08': 'FRANCISCO MORAZÁN',\n",
    "    '09': 'GRACIAS A DIOS',\n",
    "    '10': 'INTIBUCÁ',\n",
    "    '11': 'ISLAS DE LA BAHÍA',\n",
    "    '12': 'LA PAZ',\n",
    "    '13': 'LEMPIRA',\n",
    "    '14': 'OCOTEPEQUE',\n",
    "    '15': 'OLANCHO',\n",
    "    '16': 'SANTA BÁRBARA',\n",
    "    '17': 'VALLE',\n",
    "    '18': 'YORO'\n",
    "}"
   ]
  },
  {
   "cell_type": "code",
   "execution_count": 27,
   "id": "76d55315-96b9-4d44-8d1f-8548fdef2978",
   "metadata": {},
   "outputs": [],
   "source": [
    "#Función para extraer el departamento según los dos primeros números de la identidad.\n",
    "def extraer_departamento_por_identidad(identidad):\n",
    "    codigo = identidad[:2]\n",
    "    return codigo_departamentos.get(codigo, 'Desconocido')"
   ]
  },
  {
   "cell_type": "code",
   "execution_count": 29,
   "id": "466094c4-fbbe-40e5-88ac-9ce20c013bc4",
   "metadata": {},
   "outputs": [],
   "source": [
    "#CREAMOS LA NUEVA COLUMNA\n",
    "df['Número de identidad del huésped (Separado por guiones)'] = df['Número de identidad del huésped (Separado por guiones)'].astype(str)\n",
    "df['Departamento'] = df['Número de identidad del huésped (Separado por guiones)'].apply(extraer_departamento_por_identidad)\n",
    "df.to_excel(\"DepPorId.xlsx\", index = False)"
   ]
  },
  {
   "cell_type": "markdown",
   "id": "473ec1de-5b61-4276-9fa9-57c3beb16102",
   "metadata": {},
   "source": [
    "Ya logramos sacar el departamento que nos indica la identidad, sin embargo, no es obligatoriamente de la que provienen.\n"
   ]
  },
  {
   "cell_type": "code",
   "execution_count": 30,
   "id": "05988b80-f735-4e1e-933a-ab7c78882faa",
   "metadata": {},
   "outputs": [],
   "source": [
    "#Vamos a hacer dos listas para extraer el departamento de lugar de procedencia.\n",
    "import re\n",
    "\n",
    "departamentos = [\n",
    "    'Atlántida', 'Choluteca', 'Colón', 'Comayagua', 'Copán', \n",
    "    'Cortés', 'El Paraíso', 'Francisco Morazán', 'Gracias a Dios', \n",
    "    'Intibucá', 'Islas de la Bahía', 'La Paz', 'Lempira', 'Ocotepeque', \n",
    "    'Olancho', 'Santa Bárbara', 'Valle', 'Yoro'\n",
    "]\n",
    "\n",
    "departamentos_sin_acento = [\n",
    "    'Atlantida', 'Choluteca', 'Colon', 'Comayagua', 'Copan', \n",
    "    'Cortes', 'El Paraiso', 'Francisco Morazan', 'Gracias a Dios', \n",
    "    'Intibuca', 'Islas de la Bahia', 'La Paz', 'Lempira', 'Ocotepeque', \n",
    "    'Olancho', 'Santa Barbara', 'Valle', 'Yoro'\n",
    "]\n",
    "\n",
    "#La función para extraer el departamento\n",
    "def extraer_departamento(procedencia):\n",
    "    if isinstance(procedencia, str):\n",
    "        for depto in departamentos + departamentos_sin_acento:\n",
    "            if re.search(r'\\b' + re.escape(depto) + r'\\b', procedencia, re.IGNORECASE):\n",
    "                return depto\n",
    "    return 'Ninguno'\n",
    "\n",
    "df['Lugar de procedencia'] = df['Lugar de procedencia'].astype(str)\n",
    "df['Departamento extraido'] = df['Lugar de procedencia'].apply(extraer_departamento)\n",
    "\n",
    "\n",
    "mask = df['Departamento extraido'] != 'Ninguno'\n",
    "df.loc[mask, 'Departamento'] = df.loc[mask, 'Departamento extraido']\n",
    "\n",
    "# Eliminar la columna auxiliar 'Departamento extraido'\n",
    "df.drop(columns=['Departamento extraido'], inplace=True)\n",
    "\n",
    "# Guardar el DataFrame modificado a un nuevo archivo de Excel\n",
    "df.to_excel('ruta_al_archivo_modificado.xlsx', index=False)"
   ]
  },
  {
   "cell_type": "code",
   "execution_count": null,
   "id": "64904c6b-57f5-4cd0-864a-dd1f5273c13e",
   "metadata": {},
   "outputs": [],
   "source": []
  }
 ],
 "metadata": {
  "kernelspec": {
   "display_name": "Python 3 (ipykernel)",
   "language": "python",
   "name": "python3"
  },
  "language_info": {
   "codemirror_mode": {
    "name": "ipython",
    "version": 3
   },
   "file_extension": ".py",
   "mimetype": "text/x-python",
   "name": "python",
   "nbconvert_exporter": "python",
   "pygments_lexer": "ipython3",
   "version": "3.12.1"
  }
 },
 "nbformat": 4,
 "nbformat_minor": 5
}
